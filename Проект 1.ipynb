{
 "cells": [
  {
   "cell_type": "code",
   "execution_count": 1,
   "id": "c6f635ae-9005-465f-a394-d24be2f82e1a",
   "metadata": {},
   "outputs": [
    {
     "data": {
      "text/plain": [
       "33"
      ]
     },
     "execution_count": 1,
     "metadata": {},
     "output_type": "execute_result"
    }
   ],
   "source": [
    "100//3"
   ]
  },
  {
   "cell_type": "code",
   "execution_count": 2,
   "id": "3bdbb00f-dfd3-4988-b77e-a77ed214737a",
   "metadata": {},
   "outputs": [
    {
     "data": {
      "text/plain": [
       "1"
      ]
     },
     "execution_count": 2,
     "metadata": {},
     "output_type": "execute_result"
    }
   ],
   "source": [
    "100%3"
   ]
  },
  {
   "cell_type": "code",
   "execution_count": 3,
   "id": "6c0c88ff-8724-479f-a624-c5748e4a04b4",
   "metadata": {},
   "outputs": [
    {
     "data": {
      "text/plain": [
       "8192"
      ]
     },
     "execution_count": 3,
     "metadata": {},
     "output_type": "execute_result"
    }
   ],
   "source": [
    "2**13"
   ]
  },
  {
   "cell_type": "code",
   "execution_count": 4,
   "id": "523a9fb3-dab3-415b-b567-3aa56de0a952",
   "metadata": {},
   "outputs": [
    {
     "data": {
      "text/plain": [
       "True"
      ]
     },
     "execution_count": 4,
     "metadata": {},
     "output_type": "execute_result"
    }
   ],
   "source": [
    "10 == 10"
   ]
  },
  {
   "cell_type": "code",
   "execution_count": 5,
   "id": "5865a3db-520a-4e50-958a-f7493fcdb6bd",
   "metadata": {},
   "outputs": [
    {
     "data": {
      "text/plain": [
       "8192"
      ]
     },
     "execution_count": 5,
     "metadata": {},
     "output_type": "execute_result"
    }
   ],
   "source": [
    "2**13"
   ]
  },
  {
   "cell_type": "code",
   "execution_count": 6,
   "id": "a2f4145e-d10e-428a-adc8-0c6a23cd24e5",
   "metadata": {},
   "outputs": [],
   "source": [
    "phrase = \"Hello World!\"\n"
   ]
  },
  {
   "cell_type": "code",
   "execution_count": 7,
   "id": "81bedfb5-a065-4c28-84b0-96897215efe1",
   "metadata": {},
   "outputs": [
    {
     "data": {
      "text/plain": [
       "'H'"
      ]
     },
     "execution_count": 7,
     "metadata": {},
     "output_type": "execute_result"
    }
   ],
   "source": [
    "phrase[0]"
   ]
  },
  {
   "cell_type": "code",
   "execution_count": 8,
   "id": "7f9f51eb-3724-4880-9205-2a67f6a2b168",
   "metadata": {},
   "outputs": [],
   "source": [
    "car_marks = ['audi', 'bmw', 'kia', 'opel', 'porsche']"
   ]
  },
  {
   "cell_type": "code",
   "execution_count": 9,
   "id": "d2de194d-2157-4bd9-ad05-437667319982",
   "metadata": {},
   "outputs": [
    {
     "data": {
      "text/plain": [
       "'porsche'"
      ]
     },
     "execution_count": 9,
     "metadata": {},
     "output_type": "execute_result"
    }
   ],
   "source": [
    "car_marks[-1]"
   ]
  },
  {
   "cell_type": "code",
   "execution_count": 10,
   "id": "d5c51d62-771c-48ff-b744-6c0f30d02934",
   "metadata": {},
   "outputs": [],
   "source": [
    "primer = {\n",
    "    1:'A',\n",
    "    2:'B',\n",
    "    3:'C',\n",
    "}"
   ]
  },
  {
   "cell_type": "code",
   "execution_count": 11,
   "id": "71ceacb1-b5a0-4b30-a732-5ba8352b8c6d",
   "metadata": {},
   "outputs": [],
   "source": [
    "numbers = {1, 2, 3}"
   ]
  },
  {
   "cell_type": "code",
   "execution_count": 12,
   "id": "73986b90-d5e6-40be-8e4c-f2f33b1aa889",
   "metadata": {},
   "outputs": [
    {
     "data": {
      "text/plain": [
       "'HELLO WORLD!'"
      ]
     },
     "execution_count": 12,
     "metadata": {},
     "output_type": "execute_result"
    }
   ],
   "source": [
    "phrase.upper()"
   ]
  },
  {
   "cell_type": "code",
   "execution_count": 13,
   "id": "b5d93522-41b2-4921-83c0-caf28bf7ccf3",
   "metadata": {},
   "outputs": [],
   "source": [
    "car_marks.append('toyota')"
   ]
  },
  {
   "cell_type": "code",
   "execution_count": 14,
   "id": "aee056cf-7247-4ddd-be5e-d7940f60a107",
   "metadata": {},
   "outputs": [
    {
     "data": {
      "text/plain": [
       "dict_keys([1, 2, 3])"
      ]
     },
     "execution_count": 14,
     "metadata": {},
     "output_type": "execute_result"
    }
   ],
   "source": [
    "primer.keys()"
   ]
  },
  {
   "cell_type": "code",
   "execution_count": 15,
   "id": "2e2e5de8-99c9-4528-9e8d-474fb5c4a7c4",
   "metadata": {},
   "outputs": [],
   "source": [
    "numbers.add(4)"
   ]
  },
  {
   "cell_type": "code",
   "execution_count": 16,
   "id": "ce4811fb-8536-4cfe-9971-6f8c54f7f3ab",
   "metadata": {},
   "outputs": [],
   "source": [
    "car_1 = {\n",
    "    ('mersedes', 's') : {\n",
    "        'price' : 3850000,\n",
    "        'engine_capacity' : 6.8,\n",
    "        'acceleration' : 4,\n",
    "        'drive' : 'Задний',\n",
    "        'release_year' : 2020,\n",
    "        'country' : 'Германия',\n",
    "    }\n",
    "}"
   ]
  },
  {
   "cell_type": "code",
   "execution_count": 17,
   "id": "c190b8f0-ea34-42bf-9195-212642d6cd91",
   "metadata": {},
   "outputs": [],
   "source": [
    "car_2 = {\n",
    "    ('bmw', 'm5') : {\n",
    "        'price' : 7752000,\n",
    "        'engine_capacity' : 5,\n",
    "        'acceleration' : 3,\n",
    "        'drive' : 'Полный',\n",
    "        'release_year' : 2021,\n",
    "        'country' : 'Германия',\n",
    "    }\n",
    "}"
   ]
  },
  {
   "cell_type": "code",
   "execution_count": 18,
   "id": "1606eac1-7d04-46b0-87e7-5a37b327ea49",
   "metadata": {},
   "outputs": [],
   "source": [
    "car_3 = {\n",
    "    ('ford', 'f150') : {\n",
    "        'price' : 4100000,\n",
    "        'engine_capacity' : 3.3,\n",
    "        'acceleration' : 7,\n",
    "        'drive' : 'Полный',\n",
    "        'release_year' : 2019,\n",
    "        'country' : 'США',\n",
    "    }\n",
    "}"
   ]
  },
  {
   "cell_type": "code",
   "execution_count": 19,
   "id": "adf57e7f-e094-46f7-9753-a435cb5560b9",
   "metadata": {},
   "outputs": [],
   "source": [
    "car_4 = {\n",
    "    ('hyundai', 'solaris') : {\n",
    "        'price' : 620000,\n",
    "        'engine_capacity' : 1.4,\n",
    "        'acceleration' : 11.5,\n",
    "        'drive' : 'Передний',\n",
    "        'release_year' : 2011,\n",
    "        'country' : 'Южная Корея',\n",
    "    }\n",
    "}"
   ]
  },
  {
   "cell_type": "code",
   "execution_count": 20,
   "id": "c0f4a4a2-7a7a-44e8-ad87-c849a5a9c4da",
   "metadata": {},
   "outputs": [],
   "source": [
    "car_5 = {\n",
    "    ('skoda', 'octavia') : {\n",
    "        'price' : 2325000,\n",
    "        'engine_capacity' : 1.4,\n",
    "        'acceleration' : 6.8,\n",
    "        'drive' : 'Передний',\n",
    "        'release_year' : 2020,\n",
    "        'country' : 'Чехия',\n",
    "    }\n",
    "}"
   ]
  },
  {
   "cell_type": "code",
   "execution_count": 21,
   "id": "4441ae4d-ccf8-49a1-ad6d-133e7eec1a40",
   "metadata": {},
   "outputs": [],
   "source": [
    "car_6 = {\n",
    "    ('haval', 'dargo x') : {\n",
    "        'price' : 3349000,\n",
    "        'engine_capacity' : 2.0,\n",
    "        'acceleration' : 9,\n",
    "        'drive' : 'Полный',\n",
    "        'release_year' : 2024,\n",
    "        'country' : 'Китай',\n",
    "    }\n",
    "}"
   ]
  },
  {
   "cell_type": "code",
   "execution_count": 22,
   "id": "a60c2b0a-8891-47b5-a98d-9472a8f0849e",
   "metadata": {},
   "outputs": [],
   "source": [
    "car_7 = {\n",
    "    ('volkswagen ', 'tiguan') : {\n",
    "        'price' : 2295000,\n",
    "        'engine_capacity' : 1.4,\n",
    "        'acceleration' : 4.9,\n",
    "        'drive' : 'Полный',\n",
    "        'release_year' : 2019,\n",
    "        'country' : 'Германия',\n",
    "    }\n",
    "}"
   ]
  },
  {
   "cell_type": "code",
   "execution_count": 23,
   "id": "d2976e1b-412f-4085-9d1d-a4675f9ec8b8",
   "metadata": {},
   "outputs": [],
   "source": [
    "car_8 = {\n",
    "    ('chevrolet ', 'tahoe') : {\n",
    "        'price' : 4525000,\n",
    "        'engine_capacity' : 6.2,\n",
    "        'acceleration' : 5.9,\n",
    "        'drive' : 'Полный',\n",
    "        'release_year' : 2018,\n",
    "        'country' : 'США',\n",
    "    }\n",
    "}"
   ]
  },
  {
   "cell_type": "code",
   "execution_count": 24,
   "id": "7901ab23-8b97-42df-913a-26a5229e84d0",
   "metadata": {},
   "outputs": [],
   "source": [
    "car_9 = {\n",
    "    ('kia', 'sportage') : {\n",
    "        'price' : 2290000,\n",
    "        'engine_capacity' : 2.0,\n",
    "        'acceleration' : 6.5,\n",
    "        'drive' : 'Передний',\n",
    "        'release_year' : 2019,\n",
    "        'country' : 'Южная Корея',\n",
    "    }\n",
    "}"
   ]
  },
  {
   "cell_type": "code",
   "execution_count": 25,
   "id": "a7c36aaf-cb08-4abb-aa23-bd835d2605e9",
   "metadata": {},
   "outputs": [],
   "source": [
    "car_10 = {\n",
    "    ('opel', 'zafira') : {\n",
    "        'price' : 455000,\n",
    "        'engine_capacity' : 1.8,\n",
    "        'acceleration' : 8,\n",
    "        'drive' : 'Передний',\n",
    "        'release_year' : 2008,\n",
    "        'country' : 'Германия',\n",
    "    }\n",
    "}"
   ]
  },
  {
   "cell_type": "code",
   "execution_count": 26,
   "id": "7fec6439-cd1e-47d2-bbf6-5fd1706ab398",
   "metadata": {},
   "outputs": [],
   "source": [
    "all_cars = []"
   ]
  },
  {
   "cell_type": "code",
   "execution_count": 27,
   "id": "a273b9f6-0c11-4548-8fe7-a9060649a27a",
   "metadata": {},
   "outputs": [],
   "source": [
    "car_1[('mersedes', 's')].update({\"рассрочка\":True})"
   ]
  },
  {
   "cell_type": "code",
   "execution_count": 28,
   "id": "fc7cbf08-23ce-4ec8-a73c-88db2b847011",
   "metadata": {},
   "outputs": [],
   "source": [
    "car_2[('bmw', 'm5')].update({\"рассрочка\":True})"
   ]
  },
  {
   "cell_type": "code",
   "execution_count": 29,
   "id": "a755c6c7-5816-45aa-94bc-4dc9d5a864e7",
   "metadata": {},
   "outputs": [],
   "source": [
    "car_3[('ford', 'f150')].update({\"рассрочка\":True})"
   ]
  },
  {
   "cell_type": "code",
   "execution_count": 30,
   "id": "d180b261-85f2-49d0-9541-d200ec8da1ed",
   "metadata": {},
   "outputs": [],
   "source": [
    "car_4[('hyundai', 'solaris')].update({\"рассрочка\":True})"
   ]
  },
  {
   "cell_type": "code",
   "execution_count": 31,
   "id": "ea1bcd18-8a44-4fd7-bc12-e3cfa41ef58f",
   "metadata": {},
   "outputs": [],
   "source": [
    "car_5[('skoda', 'octavia')].update({\"рассрочка\":True})"
   ]
  },
  {
   "cell_type": "code",
   "execution_count": 32,
   "id": "202acea7-43f3-48fc-9d0b-9db55472ee13",
   "metadata": {},
   "outputs": [],
   "source": [
    "car_6[('haval', 'dargo x')].update({\"рассрочка\":True})"
   ]
  },
  {
   "cell_type": "code",
   "execution_count": 33,
   "id": "5fd5f1e2-5fdc-42ce-ae4f-b224c5ff77ab",
   "metadata": {},
   "outputs": [],
   "source": [
    "car_7[('volkswagen ', 'tiguan')].update({\"рассрочка\":True})"
   ]
  },
  {
   "cell_type": "code",
   "execution_count": 34,
   "id": "0c025c03-54d3-40a4-9742-39987eb91c33",
   "metadata": {},
   "outputs": [],
   "source": [
    "car_8[('chevrolet ', 'tahoe')].update({\"рассрочка\":True})"
   ]
  },
  {
   "cell_type": "code",
   "execution_count": 35,
   "id": "5df2d514-ceca-4beb-81ec-9c63eff43a16",
   "metadata": {},
   "outputs": [],
   "source": [
    "car_9[('kia', 'sportage')].update({\"рассрочка\":True})"
   ]
  },
  {
   "cell_type": "code",
   "execution_count": 36,
   "id": "4ce0ce23-5e0b-40e6-abba-e8e4cecd562a",
   "metadata": {},
   "outputs": [],
   "source": [
    "car_10[('opel', 'zafira')].update({\"рассрочка\":True})"
   ]
  },
  {
   "cell_type": "code",
   "execution_count": 37,
   "id": "517e1be4-9222-46e3-8215-6ec6a8205405",
   "metadata": {},
   "outputs": [],
   "source": [
    "all_cars.append(car_1)"
   ]
  },
  {
   "cell_type": "code",
   "execution_count": 38,
   "id": "3bdb98b2-8a5b-448e-8734-2d72d253b2c3",
   "metadata": {},
   "outputs": [],
   "source": [
    "all_cars.append(car_2)"
   ]
  },
  {
   "cell_type": "code",
   "execution_count": 39,
   "id": "f252c4c0-9dd6-429a-87cb-15a33e4b8753",
   "metadata": {},
   "outputs": [],
   "source": [
    "all_cars.append(car_3)"
   ]
  },
  {
   "cell_type": "code",
   "execution_count": 40,
   "id": "c1d63849-30a0-40bf-ae95-936e04a6eeb6",
   "metadata": {},
   "outputs": [],
   "source": [
    "all_cars.append(car_4)"
   ]
  },
  {
   "cell_type": "code",
   "execution_count": 41,
   "id": "f512b1b7-b754-40ac-af3f-c85ed2a1d8f1",
   "metadata": {},
   "outputs": [],
   "source": [
    "all_cars.append(car_5)"
   ]
  },
  {
   "cell_type": "code",
   "execution_count": 42,
   "id": "73f946d8-bca2-4867-9a25-cc08242c311d",
   "metadata": {},
   "outputs": [],
   "source": [
    "all_cars.append(car_6)"
   ]
  },
  {
   "cell_type": "code",
   "execution_count": 43,
   "id": "e70a9df9-1f68-4e76-ad10-d3c59dc27528",
   "metadata": {},
   "outputs": [],
   "source": [
    "all_cars.append(car_7)"
   ]
  },
  {
   "cell_type": "code",
   "execution_count": 44,
   "id": "ab790c2a-e433-40c5-860e-a9cfc84f3fb4",
   "metadata": {},
   "outputs": [],
   "source": [
    "all_cars.append(car_8)"
   ]
  },
  {
   "cell_type": "code",
   "execution_count": 45,
   "id": "d5256bd6-b398-4337-9389-58bdc35f9929",
   "metadata": {},
   "outputs": [],
   "source": [
    "all_cars.append(car_9)"
   ]
  },
  {
   "cell_type": "code",
   "execution_count": 46,
   "id": "54b250c3-6a48-498f-ba92-8514a705bfc2",
   "metadata": {},
   "outputs": [],
   "source": [
    "all_cars.append(car_10)"
   ]
  },
  {
   "cell_type": "code",
   "execution_count": 47,
   "id": "a60c5535-5378-4c47-ae49-545a77667209",
   "metadata": {},
   "outputs": [
    {
     "data": {
      "text/plain": [
       "[{('mersedes', 's'): {'price': 3850000,\n",
       "   'engine_capacity': 6.8,\n",
       "   'acceleration': 4,\n",
       "   'drive': 'Задний',\n",
       "   'release_year': 2020,\n",
       "   'country': 'Германия',\n",
       "   'рассрочка': True}},\n",
       " {('bmw', 'm5'): {'price': 7752000,\n",
       "   'engine_capacity': 5,\n",
       "   'acceleration': 3,\n",
       "   'drive': 'Полный',\n",
       "   'release_year': 2021,\n",
       "   'country': 'Германия',\n",
       "   'рассрочка': True}},\n",
       " {('ford', 'f150'): {'price': 4100000,\n",
       "   'engine_capacity': 3.3,\n",
       "   'acceleration': 7,\n",
       "   'drive': 'Полный',\n",
       "   'release_year': 2019,\n",
       "   'country': 'США',\n",
       "   'рассрочка': True}},\n",
       " {('hyundai', 'solaris'): {'price': 620000,\n",
       "   'engine_capacity': 1.4,\n",
       "   'acceleration': 11.5,\n",
       "   'drive': 'Передний',\n",
       "   'release_year': 2011,\n",
       "   'country': 'Южная Корея',\n",
       "   'рассрочка': True}},\n",
       " {('skoda', 'octavia'): {'price': 2325000,\n",
       "   'engine_capacity': 1.4,\n",
       "   'acceleration': 6.8,\n",
       "   'drive': 'Передний',\n",
       "   'release_year': 2020,\n",
       "   'country': 'Чехия',\n",
       "   'рассрочка': True}},\n",
       " {('haval', 'dargo x'): {'price': 3349000,\n",
       "   'engine_capacity': 2.0,\n",
       "   'acceleration': 9,\n",
       "   'drive': 'Полный',\n",
       "   'release_year': 2024,\n",
       "   'country': 'Китай',\n",
       "   'рассрочка': True}},\n",
       " {('volkswagen ', 'tiguan'): {'price': 2295000,\n",
       "   'engine_capacity': 1.4,\n",
       "   'acceleration': 4.9,\n",
       "   'drive': 'Полный',\n",
       "   'release_year': 2019,\n",
       "   'country': 'Германия',\n",
       "   'рассрочка': True}},\n",
       " {('chevrolet ', 'tahoe'): {'price': 4525000,\n",
       "   'engine_capacity': 6.2,\n",
       "   'acceleration': 5.9,\n",
       "   'drive': 'Полный',\n",
       "   'release_year': 2018,\n",
       "   'country': 'США',\n",
       "   'рассрочка': True}},\n",
       " {('kia', 'sportage'): {'price': 2290000,\n",
       "   'engine_capacity': 2.0,\n",
       "   'acceleration': 6.5,\n",
       "   'drive': 'Передний',\n",
       "   'release_year': 2019,\n",
       "   'country': 'Южная Корея',\n",
       "   'рассрочка': True}},\n",
       " {('opel', 'zafira'): {'price': 455000,\n",
       "   'engine_capacity': 1.8,\n",
       "   'acceleration': 8,\n",
       "   'drive': 'Передний',\n",
       "   'release_year': 2008,\n",
       "   'country': 'Германия',\n",
       "   'рассрочка': True}}]"
      ]
     },
     "execution_count": 47,
     "metadata": {},
     "output_type": "execute_result"
    }
   ],
   "source": [
    "all_cars"
   ]
  },
  {
   "cell_type": "code",
   "execution_count": 48,
   "id": "9539ce1f-2242-4fbe-aa21-72ee04faaccb",
   "metadata": {},
   "outputs": [],
   "source": [
    "param = \"release_year\""
   ]
  },
  {
   "cell_type": "code",
   "execution_count": 49,
   "id": "e82f1edd-5eed-42ab-8a4c-62dc13aa2bc6",
   "metadata": {},
   "outputs": [],
   "source": [
    "kriteriy = 2019"
   ]
  },
  {
   "cell_type": "code",
   "execution_count": 50,
   "id": "180bbdd2-dbff-4fd6-b01a-57f2196dcd47",
   "metadata": {},
   "outputs": [],
   "source": [
    "def prepare(all_cars, param, kriteriy):\n",
    "  car_models = []\n",
    "  for car in all_cars:\n",
    "      for car_model in car:\n",
    "            if car[(car_model)][param] == kriteriy:\n",
    "                car_models.append(car_model)\n",
    "  return car_models"
   ]
  },
  {
   "cell_type": "code",
   "execution_count": 51,
   "id": "5bb33a57-0168-4784-a00b-d2d821f98656",
   "metadata": {},
   "outputs": [
    {
     "data": {
      "text/plain": [
       "[('ford', 'f150'), ('volkswagen ', 'tiguan'), ('kia', 'sportage')]"
      ]
     },
     "execution_count": 51,
     "metadata": {},
     "output_type": "execute_result"
    }
   ],
   "source": [
    "prepare(all_cars, param, kriteriy)"
   ]
  }
 ],
 "metadata": {
  "kernelspec": {
   "display_name": "Python 3 (ipykernel)",
   "language": "python",
   "name": "python3"
  },
  "language_info": {
   "codemirror_mode": {
    "name": "ipython",
    "version": 3
   },
   "file_extension": ".py",
   "mimetype": "text/x-python",
   "name": "python",
   "nbconvert_exporter": "python",
   "pygments_lexer": "ipython3",
   "version": "3.10.10"
  }
 },
 "nbformat": 4,
 "nbformat_minor": 5
}
